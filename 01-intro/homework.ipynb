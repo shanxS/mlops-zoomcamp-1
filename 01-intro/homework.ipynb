{
 "cells": [
  {
   "cell_type": "code",
   "execution_count": 1,
   "id": "6d17dac1",
   "metadata": {},
   "outputs": [],
   "source": [
    "import pandas as pd"
   ]
  },
  {
   "cell_type": "code",
   "execution_count": 37,
   "id": "a4f61646",
   "metadata": {},
   "outputs": [],
   "source": [
    "df_jan = pd.read_parquet('https://d37ci6vzurychx.cloudfront.net/trip-data/yellow_tripdata_2023-01.parquet')\n",
    "# df = pd.concat([df_jan, df_feb], axis=0, ignore_index=True)"
   ]
  },
  {
   "cell_type": "code",
   "execution_count": 38,
   "id": "ecad39df",
   "metadata": {
    "scrolled": true
   },
   "outputs": [
    {
     "name": "stdout",
     "output_type": "stream",
     "text": [
      "<class 'pandas.core.frame.DataFrame'>\n",
      "RangeIndex: 3066766 entries, 0 to 3066765\n",
      "Data columns (total 19 columns):\n",
      " #   Column                 Dtype         \n",
      "---  ------                 -----         \n",
      " 0   VendorID               int64         \n",
      " 1   tpep_pickup_datetime   datetime64[us]\n",
      " 2   tpep_dropoff_datetime  datetime64[us]\n",
      " 3   passenger_count        float64       \n",
      " 4   trip_distance          float64       \n",
      " 5   RatecodeID             float64       \n",
      " 6   store_and_fwd_flag     object        \n",
      " 7   PULocationID           int64         \n",
      " 8   DOLocationID           int64         \n",
      " 9   payment_type           int64         \n",
      " 10  fare_amount            float64       \n",
      " 11  extra                  float64       \n",
      " 12  mta_tax                float64       \n",
      " 13  tip_amount             float64       \n",
      " 14  tolls_amount           float64       \n",
      " 15  improvement_surcharge  float64       \n",
      " 16  total_amount           float64       \n",
      " 17  congestion_surcharge   float64       \n",
      " 18  airport_fee            float64       \n",
      "dtypes: datetime64[us](2), float64(12), int64(4), object(1)\n",
      "memory usage: 444.6+ MB\n"
     ]
    }
   ],
   "source": [
    "df_jan.info()"
   ]
  },
  {
   "cell_type": "code",
   "execution_count": 39,
   "id": "19591740",
   "metadata": {},
   "outputs": [],
   "source": [
    "#### QUESTION 2 ####"
   ]
  },
  {
   "cell_type": "code",
   "execution_count": 40,
   "id": "43eac2cf",
   "metadata": {},
   "outputs": [
    {
     "data": {
      "text/plain": [
       "np.float64(42.59435124195458)"
      ]
     },
     "execution_count": 40,
     "metadata": {},
     "output_type": "execute_result"
    }
   ],
   "source": [
    "res = df_jan.tpep_dropoff_datetime - df_jan.tpep_pickup_datetime\n",
    "# print(res.info())\n",
    "# df_jan[res.isna()].sample() #[['tpep_pickup_datetime', 'tpep_dropoff_datetime']].sample()\n",
    "(res.dt.total_seconds()/60).std()"
   ]
  },
  {
   "cell_type": "code",
   "execution_count": 42,
   "id": "55c0c321",
   "metadata": {},
   "outputs": [],
   "source": [
    "#### QUESTION 3 ####"
   ]
  },
  {
   "cell_type": "code",
   "execution_count": 43,
   "id": "e8e73f18",
   "metadata": {},
   "outputs": [],
   "source": [
    "df3 = df_jan.copy()\n",
    "df3['duration_sec'] = (df3.tpep_dropoff_datetime - df3.tpep_pickup_datetime).dt.total_seconds()\n",
    "df3 = df3[df3['duration_sec'].notna()]"
   ]
  },
  {
   "cell_type": "code",
   "execution_count": 49,
   "id": "6d1be8a1",
   "metadata": {
    "scrolled": true
   },
   "outputs": [
    {
     "name": "stdout",
     "output_type": "stream",
     "text": [
      "0.9917245071844412\n"
     ]
    }
   ],
   "source": [
    "df3 = df3.loc[(df3['duration_sec'] >= 1) & (df3['duration_sec'] <= 60*60)]\n",
    "print( (len(df3) / len(df_jan)))"
   ]
  },
  {
   "cell_type": "code",
   "execution_count": 50,
   "id": "bf899a46-791f-4114-8e30-a555c7ef6257",
   "metadata": {},
   "outputs": [],
   "source": [
    "#### QUESTION 4 ####"
   ]
  },
  {
   "cell_type": "code",
   "execution_count": null,
   "id": "fe013b2c-4bfc-46cf-8a08-9dbca4942af0",
   "metadata": {},
   "outputs": [],
   "source": []
  }
 ],
 "metadata": {
  "kernelspec": {
   "display_name": "Python 3 (ipykernel)",
   "language": "python",
   "name": "python3"
  },
  "language_info": {
   "codemirror_mode": {
    "name": "ipython",
    "version": 3
   },
   "file_extension": ".py",
   "mimetype": "text/x-python",
   "name": "python",
   "nbconvert_exporter": "python",
   "pygments_lexer": "ipython3",
   "version": "3.12.1"
  }
 },
 "nbformat": 4,
 "nbformat_minor": 5
}
