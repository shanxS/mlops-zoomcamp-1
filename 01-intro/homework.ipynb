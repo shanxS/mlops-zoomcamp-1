{
 "cells": [
  {
   "cell_type": "code",
   "execution_count": 2,
   "id": "a4f61646",
   "metadata": {},
   "outputs": [
    {
     "name": "stdout",
     "output_type": "stream",
     "text": [
      "<class 'pandas.core.frame.DataFrame'>\n",
      "RangeIndex: 3066766 entries, 0 to 3066765\n",
      "Data columns (total 19 columns):\n",
      " #   Column                 Dtype         \n",
      "---  ------                 -----         \n",
      " 0   VendorID               int64         \n",
      " 1   tpep_pickup_datetime   datetime64[us]\n",
      " 2   tpep_dropoff_datetime  datetime64[us]\n",
      " 3   passenger_count        float64       \n",
      " 4   trip_distance          float64       \n",
      " 5   RatecodeID             float64       \n",
      " 6   store_and_fwd_flag     object        \n",
      " 7   PULocationID           int64         \n",
      " 8   DOLocationID           int64         \n",
      " 9   payment_type           int64         \n",
      " 10  fare_amount            float64       \n",
      " 11  extra                  float64       \n",
      " 12  mta_tax                float64       \n",
      " 13  tip_amount             float64       \n",
      " 14  tolls_amount           float64       \n",
      " 15  improvement_surcharge  float64       \n",
      " 16  total_amount           float64       \n",
      " 17  congestion_surcharge   float64       \n",
      " 18  airport_fee            float64       \n",
      "dtypes: datetime64[us](2), float64(12), int64(4), object(1)\n",
      "memory usage: 444.6+ MB\n"
     ]
    }
   ],
   "source": [
    "import pandas as pd\n",
    "from sklearn.feature_extraction import DictVectorizer\n",
    "from pprint import pprint\n",
    "\n",
    "df_jan = pd.read_parquet('https://d37ci6vzurychx.cloudfront.net/trip-data/yellow_tripdata_2023-01.parquet')\n",
    "# df = pd.concat([df_jan, df_feb], axis=0, ignore_index=True)\n",
    "df_jan.info()"
   ]
  },
  {
   "cell_type": "code",
   "execution_count": null,
   "id": "19591740",
   "metadata": {},
   "outputs": [],
   "source": [
    "#### QUESTION 2 ####"
   ]
  },
  {
   "cell_type": "code",
   "execution_count": 3,
   "id": "43eac2cf",
   "metadata": {},
   "outputs": [
    {
     "data": {
      "text/plain": [
       "np.float64(42.59435124195458)"
      ]
     },
     "execution_count": 3,
     "metadata": {},
     "output_type": "execute_result"
    }
   ],
   "source": [
    "res = df_jan.tpep_dropoff_datetime - df_jan.tpep_pickup_datetime\n",
    "# print(res.info())\n",
    "# df_jan[res.isna()].sample() #[['tpep_pickup_datetime', 'tpep_dropoff_datetime']].sample()\n",
    "(res.dt.total_seconds()/60).std()"
   ]
  },
  {
   "cell_type": "code",
   "execution_count": 4,
   "id": "55c0c321",
   "metadata": {},
   "outputs": [],
   "source": [
    "#### QUESTION 3 ####"
   ]
  },
  {
   "cell_type": "code",
   "execution_count": 5,
   "id": "e8e73f18",
   "metadata": {},
   "outputs": [
    {
     "name": "stdout",
     "output_type": "stream",
     "text": [
      "0.9812202822125979\n"
     ]
    }
   ],
   "source": [
    "df3 = df_jan.copy()\n",
    "df3['duration_min'] = (df3.tpep_dropoff_datetime - df3.tpep_pickup_datetime).dt.total_seconds()/60\n",
    "df3 = df3[df3['duration_min'].notna()]\n",
    "df3 = df3.loc[(df3['duration_min'] >= 1) & (df3['duration_min'] <= 60)]\n",
    "\n",
    "print( (len(df3) / len(df_jan)))"
   ]
  },
  {
   "cell_type": "code",
   "execution_count": 6,
   "id": "bf899a46-791f-4114-8e30-a555c7ef6257",
   "metadata": {},
   "outputs": [],
   "source": [
    "#### QUESTION 4 ####"
   ]
  },
  {
   "cell_type": "code",
   "execution_count": 7,
   "id": "4754ccbf-6001-43ca-8bc7-fd634ce4606d",
   "metadata": {},
   "outputs": [
    {
     "data": {
      "text/plain": [
       "515"
      ]
     },
     "execution_count": 7,
     "metadata": {},
     "output_type": "execute_result"
    }
   ],
   "source": [
    "categorical = ['PULocationID', 'DOLocationID']\n",
    "dict4 = df3[categorical].astype(str).to_dict('records')\n",
    "# pprint(dict4[0:5])\n",
    "\n",
    "dv = DictVectorizer(sparse=True)\n",
    "df4 = dv.fit_transform(dict4)\n",
    "# pprint(x)\n",
    "# print(x.shape)\n",
    "len(dv.feature_names_)"
   ]
  },
  {
   "cell_type": "code",
   "execution_count": 8,
   "id": "aeed434a-74b6-49b0-b18c-b773407c627a",
   "metadata": {},
   "outputs": [],
   "source": [
    "#### QUESTION 5 ####"
   ]
  },
  {
   "cell_type": "code",
   "execution_count": 9,
   "id": "8d62435d-6c9c-418c-9a29-d7b2b2401d29",
   "metadata": {},
   "outputs": [
    {
     "data": {
      "text/plain": [
       "7.649261932073194"
      ]
     },
     "execution_count": 9,
     "metadata": {},
     "output_type": "execute_result"
    }
   ],
   "source": [
    "from sklearn.linear_model import LinearRegression\n",
    "from sklearn.metrics import root_mean_squared_error\n",
    "\n",
    "# type(df4)\n",
    "labels = df3['duration_min']\n",
    "reg = LinearRegression().fit(df4, labels)\n",
    "predict = reg.predict(df4)\n",
    "root_mean_squared_error(labels, predict)"
   ]
  },
  {
   "cell_type": "code",
   "execution_count": 10,
   "id": "c97d7866-cfb3-44df-8092-1e95db91e891",
   "metadata": {},
   "outputs": [],
   "source": [
    "#### QUESTION 6 ####"
   ]
  },
  {
   "cell_type": "code",
   "execution_count": 11,
   "id": "e84c7e34-555c-4645-aa92-03d48f7a54d6",
   "metadata": {},
   "outputs": [],
   "source": [
    "df_feb = pd.read_parquet('https://d37ci6vzurychx.cloudfront.net/trip-data/yellow_tripdata_2023-02.parquet')\n",
    "\n",
    "df_feb['duration_min'] = (df_feb.tpep_dropoff_datetime - df_feb.tpep_pickup_datetime).dt.total_seconds()/60\n",
    "df_feb = df_feb[df_feb['duration_min'].notna()]\n",
    "df_feb = df_feb.loc[(df_feb['duration_min'] >= 1) & (df_feb['duration_min'] <= 60)]\n",
    "\n",
    "dict6 = df_feb[categorical].astype(str).to_dict('records')\n",
    "input6 = dv.transform(dict6)\n",
    "\n",
    "labels6 = df_feb['duration_min']"
   ]
  },
  {
   "cell_type": "code",
   "execution_count": 12,
   "id": "e4a3f37a-3ffb-4190-acf0-c3f54ea16ffd",
   "metadata": {},
   "outputs": [
    {
     "data": {
      "text/plain": [
       "7.811818966384802"
      ]
     },
     "execution_count": 12,
     "metadata": {},
     "output_type": "execute_result"
    }
   ],
   "source": [
    "predict6 = reg.predict(input6)\n",
    "root_mean_squared_error(labels6, predict6)"
   ]
  },
  {
   "cell_type": "code",
   "execution_count": null,
   "id": "1b40fa10-e75e-434e-86b5-2284e57a74e8",
   "metadata": {},
   "outputs": [],
   "source": [
    "df_feb.info()"
   ]
  },
  {
   "cell_type": "code",
   "execution_count": null,
   "id": "6157c2db-0292-4459-ab5a-d67a462fae38",
   "metadata": {},
   "outputs": [],
   "source": []
  }
 ],
 "metadata": {
  "kernelspec": {
   "display_name": ".venv",
   "language": "python",
   "name": "python3"
  },
  "language_info": {
   "codemirror_mode": {
    "name": "ipython",
    "version": 3
   },
   "file_extension": ".py",
   "mimetype": "text/x-python",
   "name": "python",
   "nbconvert_exporter": "python",
   "pygments_lexer": "ipython3",
   "version": "3.12.10"
  }
 },
 "nbformat": 4,
 "nbformat_minor": 5
}
