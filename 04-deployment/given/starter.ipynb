{
 "cells": [
  {
   "cell_type": "code",
   "execution_count": 3,
   "id": "2c51efaa",
   "metadata": {},
   "outputs": [],
   "source": [
    "!pip freeze | grep scikit-learn"
   ]
  },
  {
   "cell_type": "code",
   "execution_count": 2,
   "id": "4acf73a0-51b5-4663-9bb8-8eb947863e17",
   "metadata": {},
   "outputs": [
    {
     "name": "stdout",
     "output_type": "stream",
     "text": [
      "Python 3.12.10\n"
     ]
    }
   ],
   "source": [
    "!python -V"
   ]
  },
  {
   "cell_type": "code",
   "execution_count": 1,
   "id": "0ef880a0",
   "metadata": {},
   "outputs": [],
   "source": [
    "import pickle\n",
    "import pandas as pd"
   ]
  },
  {
   "cell_type": "code",
   "execution_count": 2,
   "id": "7836ccfd",
   "metadata": {},
   "outputs": [
    {
     "name": "stderr",
     "output_type": "stream",
     "text": [
      "/workspaces/mlops-zoomcamp-1/.venv/lib/python3.12/site-packages/sklearn/base.py:376: InconsistentVersionWarning: Trying to unpickle estimator DictVectorizer from version 1.5.0 when using version 1.4.2. This might lead to breaking code or invalid results. Use at your own risk. For more info please refer to:\n",
      "https://scikit-learn.org/stable/model_persistence.html#security-maintainability-limitations\n",
      "  warnings.warn(\n",
      "/workspaces/mlops-zoomcamp-1/.venv/lib/python3.12/site-packages/sklearn/base.py:376: InconsistentVersionWarning: Trying to unpickle estimator LinearRegression from version 1.5.0 when using version 1.4.2. This might lead to breaking code or invalid results. Use at your own risk. For more info please refer to:\n",
      "https://scikit-learn.org/stable/model_persistence.html#security-maintainability-limitations\n",
      "  warnings.warn(\n"
     ]
    }
   ],
   "source": [
    "with open('model.bin', 'rb') as f_in:\n",
    "    dv, model = pickle.load(f_in)"
   ]
  },
  {
   "cell_type": "code",
   "execution_count": 3,
   "id": "41c08294",
   "metadata": {},
   "outputs": [],
   "source": [
    "categorical = ['PULocationID', 'DOLocationID']\n",
    "\n",
    "def read_data(filename):\n",
    "    df = pd.read_parquet(filename)\n",
    "    \n",
    "    df['duration'] = df.tpep_dropoff_datetime - df.tpep_pickup_datetime\n",
    "    df['duration'] = df.duration.dt.total_seconds() / 60\n",
    "\n",
    "    df = df[(df.duration >= 1) & (df.duration <= 60)].copy()\n",
    "\n",
    "    df[categorical] = df[categorical].fillna(-1).astype('int').astype('str')\n",
    "    \n",
    "    return df"
   ]
  },
  {
   "cell_type": "code",
   "execution_count": 4,
   "id": "4854399a",
   "metadata": {},
   "outputs": [],
   "source": [
    "# df = read_data('https://d37ci6vzurychx.cloudfront.net/trip-data/yellow_tripdata_2023-03.parquet')\n",
    "df = read_data('/workspaces/mlops-zoomcamp-1/datasets/raw/yellow_tripdata_2023-03.parquet')"
   ]
  },
  {
   "cell_type": "code",
   "execution_count": 5,
   "id": "669fda0a",
   "metadata": {},
   "outputs": [],
   "source": [
    "dicts = df[categorical].to_dict(orient='records')\n",
    "X_val = dv.transform(dicts)\n",
    "y_pred = model.predict(X_val)"
   ]
  },
  {
   "cell_type": "markdown",
   "id": "4c8fe4bb",
   "metadata": {},
   "source": [
    "#### Q1"
   ]
  },
  {
   "cell_type": "code",
   "execution_count": 6,
   "id": "bf532ae7-1897-428c-ba0c-875ccaf7d76c",
   "metadata": {},
   "outputs": [
    {
     "data": {
      "text/plain": [
       "np.float64(6.247488852238703)"
      ]
     },
     "execution_count": 6,
     "metadata": {},
     "output_type": "execute_result"
    }
   ],
   "source": [
    "import numpy as np\n",
    "# np.std(y_pred)\n",
    "y_pred.std()"
   ]
  },
  {
   "cell_type": "markdown",
   "id": "cafefa7a",
   "metadata": {},
   "source": [
    "### Q2"
   ]
  },
  {
   "cell_type": "code",
   "execution_count": 7,
   "id": "3427608a",
   "metadata": {},
   "outputs": [],
   "source": [
    "year=2023\n",
    "month=3\n",
    "df_result = pd.DataFrame()\n",
    "df_result['ride_id'] = f'{year:04d}/{month:02d}_' + df.index.astype('str')\n",
    "df_result['predicted_duration'] = y_pred"
   ]
  },
  {
   "cell_type": "code",
   "execution_count": 8,
   "id": "4e9efb63",
   "metadata": {},
   "outputs": [],
   "source": [
    "output_file = '/workspaces/mlops-zoomcamp-1/datasets/04/result.parquet'\n",
    "df_result.to_parquet(\n",
    "    output_file,\n",
    "    engine='pyarrow',\n",
    "    compression=None,\n",
    "    index=False\n",
    ")"
   ]
  },
  {
   "cell_type": "code",
   "execution_count": 9,
   "id": "1ad931b2",
   "metadata": {},
   "outputs": [
    {
     "name": "stdout",
     "output_type": "stream",
     "text": [
      "-rw-r--r-- 1 vscode vscode 66M Jun  3 06:20 /workspaces/mlops-zoomcamp-1/datasets/04/result.parquet\n"
     ]
    }
   ],
   "source": [
    "!ls -larth /workspaces/mlops-zoomcamp-1/datasets/04/result.parquet"
   ]
  },
  {
   "cell_type": "markdown",
   "id": "67d5334e",
   "metadata": {},
   "source": [
    "### Rough: send http request to model"
   ]
  },
  {
   "cell_type": "code",
   "execution_count": null,
   "id": "4663edf1",
   "metadata": {},
   "outputs": [],
   "source": [
    "X_val[1,:].toarray()\n",
    "\n",
    "import json\n",
    "import requests\n",
    "\n",
    "# Assuming X_val is a predefined CSR matrix\n",
    "# data = {\"instances\": X_val[1,:].toarray().tolist()}\n",
    "# data = {\"inputs\": X_val[1,:].toarray().tolist()}\n",
    "data = {\"inputs\": [X_val[1,:].toarray().tolist()[0]]}\n",
    "res = requests.post(\"http://127.0.0.1:1234/invocations\", \n",
    "                        headers={\"Content-Type\": \"application/json\"},\n",
    "                        json=data)\n",
    "res.status_code, res.text"
   ]
  },
  {
   "cell_type": "code",
   "execution_count": 40,
   "id": "39a8654b",
   "metadata": {},
   "outputs": [],
   "source": [
    "import requests\n",
    "\n",
    "data = {\"inputs\": [X_val[1,:].toarray().tolist()]}  # Ensure [[val1, val2, ...]]\n",
    "res = requests.post(\"http://127.0.0.1:1234/invocations\", \n",
    "                    headers={\"Content-Type\": \"application/json\"},\n",
    "                    json=data)"
   ]
  },
  {
   "cell_type": "markdown",
   "id": "0da50dc8",
   "metadata": {},
   "source": [
    "# Documentaion for serving\n",
    "- [For serve & docker creation](https://mlflow.org/docs/latest/api_reference/cli.html#mlflow-models-serve)\n",
    "- [tutorial](https://mlflow.org/docs/latest/deployment/deploy-model-to-kubernetes/tutorial)\n",
    "- this cmd worked `mlflow models serve --env-manager local -m \"runs:/d9f0f7a395174a398eb6215fb9c74df5/model\" -p 1234`\n",
    "- creating docker image with following did NOT work `mlflow models build-docker --model-uri \"runs:/d9f0f7a395174a398eb6215fb9c74df5/model\" --name \"mlflow-model\"`"
   ]
  },
  {
   "cell_type": "markdown",
   "id": "8a4e5582",
   "metadata": {},
   "source": [
    "### Rough: load model in notebook for inference"
   ]
  },
  {
   "cell_type": "code",
   "execution_count": 8,
   "id": "01f1481d",
   "metadata": {},
   "outputs": [
    {
     "data": {
      "text/html": [
       "<div>\n",
       "<style scoped>\n",
       "    .dataframe tbody tr th:only-of-type {\n",
       "        vertical-align: middle;\n",
       "    }\n",
       "\n",
       "    .dataframe tbody tr th {\n",
       "        vertical-align: top;\n",
       "    }\n",
       "\n",
       "    .dataframe thead th {\n",
       "        text-align: right;\n",
       "    }\n",
       "</style>\n",
       "<table border=\"1\" class=\"dataframe\">\n",
       "  <thead>\n",
       "    <tr style=\"text-align: right;\">\n",
       "      <th></th>\n",
       "      <th>run_id</th>\n",
       "      <th>experiment_id</th>\n",
       "      <th>status</th>\n",
       "      <th>artifact_uri</th>\n",
       "      <th>start_time</th>\n",
       "      <th>end_time</th>\n",
       "      <th>metrics.input_length</th>\n",
       "      <th>metrics.intercept</th>\n",
       "      <th>params.data_url</th>\n",
       "      <th>tags.mlflow.source.type</th>\n",
       "      <th>tags.mlflow.source.git.commit</th>\n",
       "      <th>tags.mlflow.runName</th>\n",
       "      <th>tags.mlflow.source.name</th>\n",
       "      <th>tags.mlflow.log-model.history</th>\n",
       "      <th>tags.mlflow.user</th>\n",
       "    </tr>\n",
       "  </thead>\n",
       "  <tbody>\n",
       "    <tr>\n",
       "      <th>0</th>\n",
       "      <td>b2d02ff1bd444133a970e1ba4b7b340b</td>\n",
       "      <td>228318985062494346</td>\n",
       "      <td>FINISHED</td>\n",
       "      <td>mlflow-artifacts:/228318985062494346/b2d02ff1b...</td>\n",
       "      <td>2025-06-02 20:53:18.259000+00:00</td>\n",
       "      <td>2025-06-02 20:54:54.242000+00:00</td>\n",
       "      <td>3403766.0</td>\n",
       "      <td>24.778603</td>\n",
       "      <td>https://d37ci6vzurychx.cloudfront.net/trip-dat...</td>\n",
       "      <td>LOCAL</td>\n",
       "      <td>a89f2137712696440adc16967178bcb250465a4b</td>\n",
       "      <td>just-swift</td>\n",
       "      <td>hw.py</td>\n",
       "      <td>[{\"run_id\": \"b2d02ff1bd444133a970e1ba4b7b340b\"...</td>\n",
       "      <td>vscode</td>\n",
       "    </tr>\n",
       "    <tr>\n",
       "      <th>1</th>\n",
       "      <td>482fd76e6ea440319c7e4eb7ddb03c2d</td>\n",
       "      <td>228318985062494346</td>\n",
       "      <td>FINISHED</td>\n",
       "      <td>mlflow-artifacts:/228318985062494346/482fd76e6...</td>\n",
       "      <td>2025-06-02 20:23:04.152000+00:00</td>\n",
       "      <td>2025-06-02 20:24:39.201000+00:00</td>\n",
       "      <td>3403766.0</td>\n",
       "      <td>24.778603</td>\n",
       "      <td>https://d37ci6vzurychx.cloudfront.net/trip-dat...</td>\n",
       "      <td>LOCAL</td>\n",
       "      <td>a89f2137712696440adc16967178bcb250465a4b</td>\n",
       "      <td>unbiased-chital</td>\n",
       "      <td>hw.py</td>\n",
       "      <td>[{\"run_id\": \"482fd76e6ea440319c7e4eb7ddb03c2d\"...</td>\n",
       "      <td>vscode</td>\n",
       "    </tr>\n",
       "    <tr>\n",
       "      <th>2</th>\n",
       "      <td>b1a25f32db574bfebfbf4fbe69f89199</td>\n",
       "      <td>228318985062494346</td>\n",
       "      <td>FINISHED</td>\n",
       "      <td>mlflow-artifacts:/228318985062494346/b1a25f32d...</td>\n",
       "      <td>2025-06-02 20:12:49.861000+00:00</td>\n",
       "      <td>2025-06-02 20:14:30.355000+00:00</td>\n",
       "      <td>3403766.0</td>\n",
       "      <td>24.778603</td>\n",
       "      <td>https://d37ci6vzurychx.cloudfront.net/trip-dat...</td>\n",
       "      <td>LOCAL</td>\n",
       "      <td>a89f2137712696440adc16967178bcb250465a4b</td>\n",
       "      <td>horned-chachalaca</td>\n",
       "      <td>hw.py</td>\n",
       "      <td>[{\"run_id\": \"b1a25f32db574bfebfbf4fbe69f89199\"...</td>\n",
       "      <td>vscode</td>\n",
       "    </tr>\n",
       "    <tr>\n",
       "      <th>3</th>\n",
       "      <td>564ec923ff2f4e6ea371db504b1b08fa</td>\n",
       "      <td>228318985062494346</td>\n",
       "      <td>FAILED</td>\n",
       "      <td>mlflow-artifacts:/228318985062494346/564ec923f...</td>\n",
       "      <td>2025-06-02 20:11:00.132000+00:00</td>\n",
       "      <td>2025-06-02 20:11:23.950000+00:00</td>\n",
       "      <td>3403766.0</td>\n",
       "      <td>NaN</td>\n",
       "      <td>https://d37ci6vzurychx.cloudfront.net/trip-dat...</td>\n",
       "      <td>LOCAL</td>\n",
       "      <td>a89f2137712696440adc16967178bcb250465a4b</td>\n",
       "      <td>magnificent-gecko</td>\n",
       "      <td>hw.py</td>\n",
       "      <td>None</td>\n",
       "      <td>vscode</td>\n",
       "    </tr>\n",
       "  </tbody>\n",
       "</table>\n",
       "</div>"
      ],
      "text/plain": [
       "                             run_id       experiment_id    status  \\\n",
       "0  b2d02ff1bd444133a970e1ba4b7b340b  228318985062494346  FINISHED   \n",
       "1  482fd76e6ea440319c7e4eb7ddb03c2d  228318985062494346  FINISHED   \n",
       "2  b1a25f32db574bfebfbf4fbe69f89199  228318985062494346  FINISHED   \n",
       "3  564ec923ff2f4e6ea371db504b1b08fa  228318985062494346    FAILED   \n",
       "\n",
       "                                        artifact_uri  \\\n",
       "0  mlflow-artifacts:/228318985062494346/b2d02ff1b...   \n",
       "1  mlflow-artifacts:/228318985062494346/482fd76e6...   \n",
       "2  mlflow-artifacts:/228318985062494346/b1a25f32d...   \n",
       "3  mlflow-artifacts:/228318985062494346/564ec923f...   \n",
       "\n",
       "                        start_time                         end_time  \\\n",
       "0 2025-06-02 20:53:18.259000+00:00 2025-06-02 20:54:54.242000+00:00   \n",
       "1 2025-06-02 20:23:04.152000+00:00 2025-06-02 20:24:39.201000+00:00   \n",
       "2 2025-06-02 20:12:49.861000+00:00 2025-06-02 20:14:30.355000+00:00   \n",
       "3 2025-06-02 20:11:00.132000+00:00 2025-06-02 20:11:23.950000+00:00   \n",
       "\n",
       "   metrics.input_length  metrics.intercept  \\\n",
       "0             3403766.0          24.778603   \n",
       "1             3403766.0          24.778603   \n",
       "2             3403766.0          24.778603   \n",
       "3             3403766.0                NaN   \n",
       "\n",
       "                                     params.data_url tags.mlflow.source.type  \\\n",
       "0  https://d37ci6vzurychx.cloudfront.net/trip-dat...                   LOCAL   \n",
       "1  https://d37ci6vzurychx.cloudfront.net/trip-dat...                   LOCAL   \n",
       "2  https://d37ci6vzurychx.cloudfront.net/trip-dat...                   LOCAL   \n",
       "3  https://d37ci6vzurychx.cloudfront.net/trip-dat...                   LOCAL   \n",
       "\n",
       "              tags.mlflow.source.git.commit tags.mlflow.runName  \\\n",
       "0  a89f2137712696440adc16967178bcb250465a4b          just-swift   \n",
       "1  a89f2137712696440adc16967178bcb250465a4b     unbiased-chital   \n",
       "2  a89f2137712696440adc16967178bcb250465a4b   horned-chachalaca   \n",
       "3  a89f2137712696440adc16967178bcb250465a4b   magnificent-gecko   \n",
       "\n",
       "  tags.mlflow.source.name                      tags.mlflow.log-model.history  \\\n",
       "0                   hw.py  [{\"run_id\": \"b2d02ff1bd444133a970e1ba4b7b340b\"...   \n",
       "1                   hw.py  [{\"run_id\": \"482fd76e6ea440319c7e4eb7ddb03c2d\"...   \n",
       "2                   hw.py  [{\"run_id\": \"b1a25f32db574bfebfbf4fbe69f89199\"...   \n",
       "3                   hw.py                                               None   \n",
       "\n",
       "  tags.mlflow.user  \n",
       "0           vscode  \n",
       "1           vscode  \n",
       "2           vscode  \n",
       "3           vscode  "
      ]
     },
     "execution_count": 8,
     "metadata": {},
     "output_type": "execute_result"
    }
   ],
   "source": [
    "import mlflow\n",
    "mlflow.search_runs(search_all_experiments=True)"
   ]
  },
  {
   "cell_type": "code",
   "execution_count": 27,
   "id": "96a9dd4f",
   "metadata": {},
   "outputs": [
    {
     "data": {
      "application/vnd.jupyter.widget-view+json": {
       "model_id": "54e56f68cf0648a688d2fef29b7ab358",
       "version_major": 2,
       "version_minor": 0
      },
      "text/plain": [
       "Downloading artifacts:   0%|          | 0/5 [00:00<?, ?it/s]"
      ]
     },
     "metadata": {},
     "output_type": "display_data"
    },
    {
     "name": "stderr",
     "output_type": "stream",
     "text": [
      "/tmp/ipykernel_688/3302798560.py:15: SettingWithCopyWarning: \n",
      "A value is trying to be set on a copy of a slice from a DataFrame.\n",
      "Try using .loc[row_indexer,col_indexer] = value instead\n",
      "\n",
      "See the caveats in the documentation: https://pandas.pydata.org/pandas-docs/stable/user_guide/indexing.html#returning-a-view-versus-a-copy\n",
      "  df[categorical] = df[categorical].astype(str)\n"
     ]
    },
    {
     "data": {
      "text/plain": [
       "array([16.67233016, 28.66815635, 12.53358183, ..., 11.64097115,\n",
       "       13.18296659, 13.28087802], shape=(3316216,))"
      ]
     },
     "execution_count": 27,
     "metadata": {},
     "output_type": "execute_result"
    }
   ],
   "source": [
    "import pandas as pd\n",
    "import mlflow\n",
    "\n",
    "logged_model = 'runs:/b2d02ff1bd444133a970e1ba4b7b340b/pipeline'\n",
    "\n",
    "def transform_data(df: pd.DataFrame):\n",
    "    \n",
    "    df.tpep_dropoff_datetime = pd.to_datetime(df.tpep_dropoff_datetime)\n",
    "    df.tpep_pickup_datetime = pd.to_datetime(df.tpep_pickup_datetime)\n",
    "    df['duration'] = df.tpep_dropoff_datetime - df.tpep_pickup_datetime\n",
    "    df.duration = df.duration.dt.total_seconds() / 60\n",
    "    df = df[(df.duration >= 1) & (df.duration <= 60)]\n",
    "    \n",
    "    categorical = ['PULocationID', 'DOLocationID']\n",
    "    df[categorical] = df[categorical].astype(str)\n",
    "    X = df[categorical].to_dict(orient='records')\n",
    "\n",
    "    return X\n",
    "\n",
    "# Load model\n",
    "loaded_model = mlflow.sklearn.load_model(logged_model)\n",
    "\n",
    "# Load data\n",
    "df = pd.read_parquet('/workspaces/mlops-zoomcamp-1/datasets/raw/yellow_tripdata_2023-03.parquet')\n",
    "df.iloc[ 1:100,:]\n",
    "X = transform_data(df)\n",
    "\n",
    "# Predict\n",
    "loaded_model.predict(X)"
   ]
  },
  {
   "cell_type": "markdown",
   "id": "98aa1444",
   "metadata": {},
   "source": [
    "### Rough: make MLFlow create docker file & use that \n",
    "Create docker file from MLFlow: \n",
    "`mlflow models build-docker --model-uri \"runs:/b2d02ff1bd444133a970e1ba4b7b340b/pipeline\" --name \"mlflow-model\"`"
   ]
  },
  {
   "cell_type": "markdown",
   "id": "857f3ab8",
   "metadata": {},
   "source": []
  }
 ],
 "metadata": {
  "kernelspec": {
   "display_name": ".venv",
   "language": "python",
   "name": "python3"
  },
  "language_info": {
   "codemirror_mode": {
    "name": "ipython",
    "version": 3
   },
   "file_extension": ".py",
   "mimetype": "text/x-python",
   "name": "python",
   "nbconvert_exporter": "python",
   "pygments_lexer": "ipython3",
   "version": "3.12.10"
  }
 },
 "nbformat": 4,
 "nbformat_minor": 5
}
