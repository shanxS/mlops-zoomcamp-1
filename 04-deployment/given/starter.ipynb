{
 "cells": [
  {
   "cell_type": "code",
   "execution_count": 3,
   "id": "2c51efaa",
   "metadata": {},
   "outputs": [],
   "source": [
    "!pip freeze | grep scikit-learn"
   ]
  },
  {
   "cell_type": "code",
   "execution_count": 2,
   "id": "4acf73a0-51b5-4663-9bb8-8eb947863e17",
   "metadata": {},
   "outputs": [
    {
     "name": "stdout",
     "output_type": "stream",
     "text": [
      "Python 3.12.10\n"
     ]
    }
   ],
   "source": [
    "!python -V"
   ]
  },
  {
   "cell_type": "code",
   "execution_count": 13,
   "id": "0ef880a0",
   "metadata": {},
   "outputs": [],
   "source": [
    "import pickle\n",
    "import pandas as pd"
   ]
  },
  {
   "cell_type": "code",
   "execution_count": 6,
   "id": "7836ccfd",
   "metadata": {},
   "outputs": [
    {
     "name": "stderr",
     "output_type": "stream",
     "text": [
      "/workspaces/mlops-zoomcamp-1/.venv/lib/python3.12/site-packages/sklearn/base.py:376: InconsistentVersionWarning: Trying to unpickle estimator DictVectorizer from version 1.5.0 when using version 1.4.2. This might lead to breaking code or invalid results. Use at your own risk. For more info please refer to:\n",
      "https://scikit-learn.org/stable/model_persistence.html#security-maintainability-limitations\n",
      "  warnings.warn(\n",
      "/workspaces/mlops-zoomcamp-1/.venv/lib/python3.12/site-packages/sklearn/base.py:376: InconsistentVersionWarning: Trying to unpickle estimator LinearRegression from version 1.5.0 when using version 1.4.2. This might lead to breaking code or invalid results. Use at your own risk. For more info please refer to:\n",
      "https://scikit-learn.org/stable/model_persistence.html#security-maintainability-limitations\n",
      "  warnings.warn(\n"
     ]
    }
   ],
   "source": [
    "with open('model.bin', 'rb') as f_in:\n",
    "    dv, model = pickle.load(f_in)"
   ]
  },
  {
   "cell_type": "code",
   "execution_count": 7,
   "id": "41c08294",
   "metadata": {},
   "outputs": [],
   "source": [
    "categorical = ['PULocationID', 'DOLocationID']\n",
    "\n",
    "def read_data(filename):\n",
    "    df = pd.read_parquet(filename)\n",
    "    \n",
    "    df['duration'] = df.tpep_dropoff_datetime - df.tpep_pickup_datetime\n",
    "    df['duration'] = df.duration.dt.total_seconds() / 60\n",
    "\n",
    "    df = df[(df.duration >= 1) & (df.duration <= 60)].copy()\n",
    "\n",
    "    df[categorical] = df[categorical].fillna(-1).astype('int').astype('str')\n",
    "    \n",
    "    return df"
   ]
  },
  {
   "cell_type": "code",
   "execution_count": 8,
   "id": "4854399a",
   "metadata": {},
   "outputs": [],
   "source": [
    "# df = read_data('https://d37ci6vzurychx.cloudfront.net/trip-data/yellow_tripdata_2023-03.parquet')\n",
    "df = read_data('/workspaces/mlops-zoomcamp-1/datasets/raw/yellow_tripdata_2023-03.parquet')"
   ]
  },
  {
   "cell_type": "code",
   "execution_count": 9,
   "id": "669fda0a",
   "metadata": {},
   "outputs": [],
   "source": [
    "dicts = df[categorical].to_dict(orient='records')\n",
    "X_val = dv.transform(dicts)\n",
    "y_pred = model.predict(X_val)"
   ]
  },
  {
   "cell_type": "markdown",
   "id": "4c8fe4bb",
   "metadata": {},
   "source": [
    "#### Q1"
   ]
  },
  {
   "cell_type": "code",
   "execution_count": 24,
   "id": "bf532ae7-1897-428c-ba0c-875ccaf7d76c",
   "metadata": {},
   "outputs": [
    {
     "data": {
      "text/plain": [
       "np.float64(6.247488852238703)"
      ]
     },
     "execution_count": 24,
     "metadata": {},
     "output_type": "execute_result"
    }
   ],
   "source": [
    "import numpy as np\n",
    "# np.std(y_pred)\n",
    "y_pred.std()"
   ]
  },
  {
   "cell_type": "markdown",
   "id": "cafefa7a",
   "metadata": {},
   "source": [
    "### Q2"
   ]
  },
  {
   "cell_type": "code",
   "execution_count": 10,
   "id": "3427608a",
   "metadata": {},
   "outputs": [],
   "source": [
    "year=2023\n",
    "month=3\n",
    "df_result = pd.DataFrame()\n",
    "df_result['ride_id'] = f'{year:04d}/{month:02d}_' + df.index.astype('str')\n",
    "df_result['predicted_duration'] = y_pred"
   ]
  },
  {
   "cell_type": "code",
   "execution_count": 11,
   "id": "4e9efb63",
   "metadata": {},
   "outputs": [],
   "source": [
    "output_file = '/workspaces/mlops-zoomcamp-1/datasets/04/result.parquet'\n",
    "df_result.to_parquet(\n",
    "    output_file,\n",
    "    engine='pyarrow',\n",
    "    compression=None,\n",
    "    index=False\n",
    ")"
   ]
  },
  {
   "cell_type": "code",
   "execution_count": 12,
   "id": "1ad931b2",
   "metadata": {},
   "outputs": [
    {
     "name": "stdout",
     "output_type": "stream",
     "text": [
      "-rw-r--r-- 1 vscode vscode 66M May 30 13:04 /workspaces/mlops-zoomcamp-1/datasets/04/result.parquet\n"
     ]
    }
   ],
   "source": [
    "!ls -larth /workspaces/mlops-zoomcamp-1/datasets/04/result.parquet"
   ]
  },
  {
   "cell_type": "markdown",
   "id": "67d5334e",
   "metadata": {},
   "source": [
    "### Rough: send http request to model"
   ]
  },
  {
   "cell_type": "code",
   "execution_count": null,
   "id": "4663edf1",
   "metadata": {},
   "outputs": [],
   "source": [
    "X_val[1,:].toarray()\n",
    "\n",
    "import json\n",
    "import requests\n",
    "\n",
    "# Assuming X_val is a predefined CSR matrix\n",
    "# data = {\"instances\": X_val[1,:].toarray().tolist()}\n",
    "# data = {\"inputs\": X_val[1,:].toarray().tolist()}\n",
    "data = {\"inputs\": [X_val[1,:].toarray().tolist()[0]]}\n",
    "res = requests.post(\"http://127.0.0.1:1234/invocations\", \n",
    "                        headers={\"Content-Type\": \"application/json\"},\n",
    "                        json=data)\n",
    "res.status_code, res.text"
   ]
  },
  {
   "cell_type": "code",
   "execution_count": 40,
   "id": "39a8654b",
   "metadata": {},
   "outputs": [],
   "source": [
    "import requests\n",
    "\n",
    "data = {\"inputs\": [X_val[1,:].toarray().tolist()]}  # Ensure [[val1, val2, ...]]\n",
    "res = requests.post(\"http://127.0.0.1:1234/invocations\", \n",
    "                    headers={\"Content-Type\": \"application/json\"},\n",
    "                    json=data)"
   ]
  },
  {
   "cell_type": "markdown",
   "id": "0da50dc8",
   "metadata": {},
   "source": [
    "# Documentaion for serving\n",
    "- [For serve & docker creation](https://mlflow.org/docs/latest/api_reference/cli.html#mlflow-models-serve)\n",
    "- [tutorial](https://mlflow.org/docs/latest/deployment/deploy-model-to-kubernetes/tutorial)\n",
    "- this cmd worked `mlflow models serve --env-manager local -m \"runs:/d9f0f7a395174a398eb6215fb9c74df5/model\" -p 1234`\n",
    "- creating docker image with following did NOT work `mlflow models build-docker --model-uri \"runs:/d9f0f7a395174a398eb6215fb9c74df5/model\" --name \"mlflow-model\"`"
   ]
  },
  {
   "cell_type": "markdown",
   "id": "8a4e5582",
   "metadata": {},
   "source": [
    "### Rough: load model in notebook for inference"
   ]
  },
  {
   "cell_type": "code",
   "execution_count": 1,
   "id": "01f1481d",
   "metadata": {},
   "outputs": [
    {
     "ename": "MlflowException",
     "evalue": "Run 'd9f0f7a395174a398eb6215fb9c74df5' not found",
     "output_type": "error",
     "traceback": [
      "\u001b[31m---------------------------------------------------------------------------\u001b[39m",
      "\u001b[31mMlflowException\u001b[39m                           Traceback (most recent call last)",
      "\u001b[36mCell\u001b[39m\u001b[36m \u001b[39m\u001b[32mIn[1]\u001b[39m\u001b[32m, line 3\u001b[39m\n\u001b[32m      1\u001b[39m \u001b[38;5;28;01mimport\u001b[39;00m\u001b[38;5;250m \u001b[39m\u001b[34;01mmlflow\u001b[39;00m\u001b[34;01m.\u001b[39;00m\u001b[34;01msklearn\u001b[39;00m\n\u001b[32m----> \u001b[39m\u001b[32m3\u001b[39m sk_model = \u001b[43mmlflow\u001b[49m\u001b[43m.\u001b[49m\u001b[43msklearn\u001b[49m\u001b[43m.\u001b[49m\u001b[43mload_model\u001b[49m\u001b[43m(\u001b[49m\u001b[33;43m\"\u001b[39;49m\u001b[33;43mruns:/d9f0f7a395174a398eb6215fb9c74df5/model\u001b[39;49m\u001b[33;43m\"\u001b[39;49m\u001b[43m)\u001b[49m\n\u001b[32m      5\u001b[39m \u001b[38;5;66;03m# use Pandas DataFrame to make predictions\u001b[39;00m\n\u001b[32m      6\u001b[39m \u001b[38;5;66;03m# pandas_df = ...\u001b[39;00m\n\u001b[32m      7\u001b[39m \u001b[38;5;66;03m# predictions = sk_model.predict(pandas_df) \u001b[39;00m\n",
      "\u001b[36mFile \u001b[39m\u001b[32m/workspaces/mlops-zoomcamp-1/.venv/lib/python3.12/site-packages/mlflow/sklearn/__init__.py:633\u001b[39m, in \u001b[36mload_model\u001b[39m\u001b[34m(model_uri, dst_path)\u001b[39m\n\u001b[32m    598\u001b[39m \u001b[38;5;28;01mdef\u001b[39;00m\u001b[38;5;250m \u001b[39m\u001b[34mload_model\u001b[39m(model_uri, dst_path=\u001b[38;5;28;01mNone\u001b[39;00m):\n\u001b[32m    599\u001b[39m \u001b[38;5;250m    \u001b[39m\u001b[33;03m\"\"\"\u001b[39;00m\n\u001b[32m    600\u001b[39m \u001b[33;03m    Load a scikit-learn model from a local file or a run.\u001b[39;00m\n\u001b[32m    601\u001b[39m \n\u001b[32m   (...)\u001b[39m\u001b[32m    631\u001b[39m \u001b[33;03m        predictions = sk_model.predict(pandas_df)\u001b[39;00m\n\u001b[32m    632\u001b[39m \u001b[33;03m    \"\"\"\u001b[39;00m\n\u001b[32m--> \u001b[39m\u001b[32m633\u001b[39m     local_model_path = \u001b[43m_download_artifact_from_uri\u001b[49m\u001b[43m(\u001b[49m\u001b[43martifact_uri\u001b[49m\u001b[43m=\u001b[49m\u001b[43mmodel_uri\u001b[49m\u001b[43m,\u001b[49m\u001b[43m \u001b[49m\u001b[43moutput_path\u001b[49m\u001b[43m=\u001b[49m\u001b[43mdst_path\u001b[49m\u001b[43m)\u001b[49m\n\u001b[32m    634\u001b[39m     flavor_conf = _get_flavor_configuration(model_path=local_model_path, flavor_name=FLAVOR_NAME)\n\u001b[32m    635\u001b[39m     _add_code_from_conf_to_system_path(local_model_path, flavor_conf)\n",
      "\u001b[36mFile \u001b[39m\u001b[32m/workspaces/mlops-zoomcamp-1/.venv/lib/python3.12/site-packages/mlflow/tracking/artifact_utils.py:108\u001b[39m, in \u001b[36m_download_artifact_from_uri\u001b[39m\u001b[34m(artifact_uri, output_path, lineage_header_info)\u001b[39m\n\u001b[32m    100\u001b[39m \u001b[38;5;250m\u001b[39m\u001b[33;03m\"\"\"\u001b[39;00m\n\u001b[32m    101\u001b[39m \u001b[33;03mArgs:\u001b[39;00m\n\u001b[32m    102\u001b[39m \u001b[33;03m    artifact_uri: The *absolute* URI of the artifact to download.\u001b[39;00m\n\u001b[32m   (...)\u001b[39m\u001b[32m    105\u001b[39m \u001b[33;03m    lineage_header_info: The model lineage header info to be consumed by lineage services.\u001b[39;00m\n\u001b[32m    106\u001b[39m \u001b[33;03m\"\"\"\u001b[39;00m\n\u001b[32m    107\u001b[39m root_uri, artifact_path = _get_root_uri_and_artifact_path(artifact_uri)\n\u001b[32m--> \u001b[39m\u001b[32m108\u001b[39m repo = \u001b[43mget_artifact_repository\u001b[49m\u001b[43m(\u001b[49m\u001b[43martifact_uri\u001b[49m\u001b[43m=\u001b[49m\u001b[43mroot_uri\u001b[49m\u001b[43m)\u001b[49m\n\u001b[32m    110\u001b[39m \u001b[38;5;28;01mif\u001b[39;00m \u001b[38;5;28misinstance\u001b[39m(repo, ModelsArtifactRepository):\n\u001b[32m    111\u001b[39m     \u001b[38;5;28;01mreturn\u001b[39;00m repo.download_artifacts(\n\u001b[32m    112\u001b[39m         artifact_path=artifact_path,\n\u001b[32m    113\u001b[39m         dst_path=output_path,\n\u001b[32m    114\u001b[39m         lineage_header_info=lineage_header_info,\n\u001b[32m    115\u001b[39m     )\n",
      "\u001b[36mFile \u001b[39m\u001b[32m/workspaces/mlops-zoomcamp-1/.venv/lib/python3.12/site-packages/mlflow/store/artifact/artifact_repository_registry.py:131\u001b[39m, in \u001b[36mget_artifact_repository\u001b[39m\u001b[34m(artifact_uri)\u001b[39m\n\u001b[32m    118\u001b[39m \u001b[38;5;28;01mdef\u001b[39;00m\u001b[38;5;250m \u001b[39m\u001b[34mget_artifact_repository\u001b[39m(artifact_uri: \u001b[38;5;28mstr\u001b[39m) -> ArtifactRepository:\n\u001b[32m    119\u001b[39m \u001b[38;5;250m    \u001b[39m\u001b[33;03m\"\"\"\u001b[39;00m\n\u001b[32m    120\u001b[39m \u001b[33;03m    Get an artifact repository from the registry based on the scheme of artifact_uri\u001b[39;00m\n\u001b[32m    121\u001b[39m \n\u001b[32m   (...)\u001b[39m\u001b[32m    129\u001b[39m \u001b[33;03m        requirements.\u001b[39;00m\n\u001b[32m    130\u001b[39m \u001b[33;03m    \"\"\"\u001b[39;00m\n\u001b[32m--> \u001b[39m\u001b[32m131\u001b[39m     \u001b[38;5;28;01mreturn\u001b[39;00m \u001b[43m_artifact_repository_registry\u001b[49m\u001b[43m.\u001b[49m\u001b[43mget_artifact_repository\u001b[49m\u001b[43m(\u001b[49m\u001b[43martifact_uri\u001b[49m\u001b[43m)\u001b[49m\n",
      "\u001b[36mFile \u001b[39m\u001b[32m/workspaces/mlops-zoomcamp-1/.venv/lib/python3.12/site-packages/mlflow/store/artifact/artifact_repository_registry.py:76\u001b[39m, in \u001b[36mArtifactRepositoryRegistry.get_artifact_repository\u001b[39m\u001b[34m(self, artifact_uri)\u001b[39m\n\u001b[32m     71\u001b[39m \u001b[38;5;28;01mif\u001b[39;00m repository \u001b[38;5;129;01mis\u001b[39;00m \u001b[38;5;28;01mNone\u001b[39;00m:\n\u001b[32m     72\u001b[39m     \u001b[38;5;28;01mraise\u001b[39;00m MlflowException(\n\u001b[32m     73\u001b[39m         \u001b[33mf\u001b[39m\u001b[33m\"\u001b[39m\u001b[33mCould not find a registered artifact repository for: \u001b[39m\u001b[38;5;132;01m{\u001b[39;00martifact_uri\u001b[38;5;132;01m}\u001b[39;00m\u001b[33m. \u001b[39m\u001b[33m\"\u001b[39m\n\u001b[32m     74\u001b[39m         \u001b[33mf\u001b[39m\u001b[33m\"\u001b[39m\u001b[33mCurrently registered schemes are: \u001b[39m\u001b[38;5;132;01m{\u001b[39;00m\u001b[38;5;28mlist\u001b[39m(\u001b[38;5;28mself\u001b[39m._registry.keys())\u001b[38;5;132;01m}\u001b[39;00m\u001b[33m\"\u001b[39m\n\u001b[32m     75\u001b[39m     )\n\u001b[32m---> \u001b[39m\u001b[32m76\u001b[39m \u001b[38;5;28;01mreturn\u001b[39;00m \u001b[43mrepository\u001b[49m\u001b[43m(\u001b[49m\u001b[43martifact_uri\u001b[49m\u001b[43m)\u001b[49m\n",
      "\u001b[36mFile \u001b[39m\u001b[32m/workspaces/mlops-zoomcamp-1/.venv/lib/python3.12/site-packages/mlflow/store/artifact/runs_artifact_repo.py:26\u001b[39m, in \u001b[36mRunsArtifactRepository.__init__\u001b[39m\u001b[34m(self, artifact_uri)\u001b[39m\n\u001b[32m     23\u001b[39m \u001b[38;5;28;01mfrom\u001b[39;00m\u001b[38;5;250m \u001b[39m\u001b[34;01mmlflow\u001b[39;00m\u001b[34;01m.\u001b[39;00m\u001b[34;01mstore\u001b[39;00m\u001b[34;01m.\u001b[39;00m\u001b[34;01martifact\u001b[39;00m\u001b[34;01m.\u001b[39;00m\u001b[34;01martifact_repository_registry\u001b[39;00m\u001b[38;5;250m \u001b[39m\u001b[38;5;28;01mimport\u001b[39;00m get_artifact_repository\n\u001b[32m     25\u001b[39m \u001b[38;5;28msuper\u001b[39m().\u001b[34m__init__\u001b[39m(artifact_uri)\n\u001b[32m---> \u001b[39m\u001b[32m26\u001b[39m uri = \u001b[43mRunsArtifactRepository\u001b[49m\u001b[43m.\u001b[49m\u001b[43mget_underlying_uri\u001b[49m\u001b[43m(\u001b[49m\u001b[43martifact_uri\u001b[49m\u001b[43m)\u001b[49m\n\u001b[32m     27\u001b[39m \u001b[38;5;28mself\u001b[39m.repo = get_artifact_repository(uri)\n",
      "\u001b[36mFile \u001b[39m\u001b[32m/workspaces/mlops-zoomcamp-1/.venv/lib/python3.12/site-packages/mlflow/store/artifact/runs_artifact_repo.py:39\u001b[39m, in \u001b[36mRunsArtifactRepository.get_underlying_uri\u001b[39m\u001b[34m(runs_uri)\u001b[39m\n\u001b[32m     37\u001b[39m (run_id, artifact_path) = RunsArtifactRepository.parse_runs_uri(runs_uri)\n\u001b[32m     38\u001b[39m tracking_uri = get_databricks_profile_uri_from_artifact_uri(runs_uri)\n\u001b[32m---> \u001b[39m\u001b[32m39\u001b[39m uri = \u001b[43mget_artifact_uri\u001b[49m\u001b[43m(\u001b[49m\u001b[43mrun_id\u001b[49m\u001b[43m,\u001b[49m\u001b[43m \u001b[49m\u001b[43martifact_path\u001b[49m\u001b[43m,\u001b[49m\u001b[43m \u001b[49m\u001b[43mtracking_uri\u001b[49m\u001b[43m)\u001b[49m\n\u001b[32m     40\u001b[39m \u001b[38;5;28;01massert\u001b[39;00m \u001b[38;5;129;01mnot\u001b[39;00m RunsArtifactRepository.is_runs_uri(uri)  \u001b[38;5;66;03m# avoid an infinite loop\u001b[39;00m\n\u001b[32m     41\u001b[39m \u001b[38;5;28;01mreturn\u001b[39;00m add_databricks_profile_info_to_artifact_uri(uri, tracking_uri)\n",
      "\u001b[36mFile \u001b[39m\u001b[32m/workspaces/mlops-zoomcamp-1/.venv/lib/python3.12/site-packages/mlflow/tracking/artifact_utils.py:52\u001b[39m, in \u001b[36mget_artifact_uri\u001b[39m\u001b[34m(run_id, artifact_path, tracking_uri)\u001b[39m\n\u001b[32m     46\u001b[39m     \u001b[38;5;28;01mraise\u001b[39;00m MlflowException(\n\u001b[32m     47\u001b[39m         message=\u001b[33m\"\u001b[39m\u001b[33mA run_id must be specified in order to obtain an artifact uri!\u001b[39m\u001b[33m\"\u001b[39m,\n\u001b[32m     48\u001b[39m         error_code=INVALID_PARAMETER_VALUE,\n\u001b[32m     49\u001b[39m     )\n\u001b[32m     51\u001b[39m store = _get_store(tracking_uri)\n\u001b[32m---> \u001b[39m\u001b[32m52\u001b[39m run = \u001b[43mstore\u001b[49m\u001b[43m.\u001b[49m\u001b[43mget_run\u001b[49m\u001b[43m(\u001b[49m\u001b[43mrun_id\u001b[49m\u001b[43m)\u001b[49m\n\u001b[32m     53\u001b[39m \u001b[38;5;66;03m# Maybe move this method to RunsArtifactRepository so the circular dependency is clearer.\u001b[39;00m\n\u001b[32m     54\u001b[39m \u001b[38;5;28;01massert\u001b[39;00m urllib.parse.urlparse(run.info.artifact_uri).scheme != \u001b[33m\"\u001b[39m\u001b[33mruns\u001b[39m\u001b[33m\"\u001b[39m  \u001b[38;5;66;03m# avoid an infinite loop\u001b[39;00m\n",
      "\u001b[36mFile \u001b[39m\u001b[32m/workspaces/mlops-zoomcamp-1/.venv/lib/python3.12/site-packages/mlflow/store/tracking/file_store.py:694\u001b[39m, in \u001b[36mFileStore.get_run\u001b[39m\u001b[34m(self, run_id)\u001b[39m\n\u001b[32m    690\u001b[39m \u001b[38;5;250m\u001b[39m\u001b[33;03m\"\"\"\u001b[39;00m\n\u001b[32m    691\u001b[39m \u001b[33;03mNote: Will get both active and deleted runs.\u001b[39;00m\n\u001b[32m    692\u001b[39m \u001b[33;03m\"\"\"\u001b[39;00m\n\u001b[32m    693\u001b[39m _validate_run_id(run_id)\n\u001b[32m--> \u001b[39m\u001b[32m694\u001b[39m run_info = \u001b[38;5;28;43mself\u001b[39;49m\u001b[43m.\u001b[49m\u001b[43m_get_run_info\u001b[49m\u001b[43m(\u001b[49m\u001b[43mrun_id\u001b[49m\u001b[43m)\u001b[49m\n\u001b[32m    695\u001b[39m \u001b[38;5;28;01mif\u001b[39;00m run_info \u001b[38;5;129;01mis\u001b[39;00m \u001b[38;5;28;01mNone\u001b[39;00m:\n\u001b[32m    696\u001b[39m     \u001b[38;5;28;01mraise\u001b[39;00m MlflowException(\n\u001b[32m    697\u001b[39m         \u001b[33mf\u001b[39m\u001b[33m\"\u001b[39m\u001b[33mRun \u001b[39m\u001b[33m'\u001b[39m\u001b[38;5;132;01m{\u001b[39;00mrun_id\u001b[38;5;132;01m}\u001b[39;00m\u001b[33m'\u001b[39m\u001b[33m metadata is in invalid state.\u001b[39m\u001b[33m\"\u001b[39m,\n\u001b[32m    698\u001b[39m         databricks_pb2.INVALID_STATE,\n\u001b[32m    699\u001b[39m     )\n",
      "\u001b[36mFile \u001b[39m\u001b[32m/workspaces/mlops-zoomcamp-1/.venv/lib/python3.12/site-packages/mlflow/store/tracking/file_store.py:719\u001b[39m, in \u001b[36mFileStore._get_run_info\u001b[39m\u001b[34m(self, run_uuid)\u001b[39m\n\u001b[32m    717\u001b[39m exp_id, run_dir = \u001b[38;5;28mself\u001b[39m._find_run_root(run_uuid)\n\u001b[32m    718\u001b[39m \u001b[38;5;28;01mif\u001b[39;00m run_dir \u001b[38;5;129;01mis\u001b[39;00m \u001b[38;5;28;01mNone\u001b[39;00m:\n\u001b[32m--> \u001b[39m\u001b[32m719\u001b[39m     \u001b[38;5;28;01mraise\u001b[39;00m MlflowException(\n\u001b[32m    720\u001b[39m         \u001b[33mf\u001b[39m\u001b[33m\"\u001b[39m\u001b[33mRun \u001b[39m\u001b[33m'\u001b[39m\u001b[38;5;132;01m{\u001b[39;00mrun_uuid\u001b[38;5;132;01m}\u001b[39;00m\u001b[33m'\u001b[39m\u001b[33m not found\u001b[39m\u001b[33m\"\u001b[39m, databricks_pb2.RESOURCE_DOES_NOT_EXIST\n\u001b[32m    721\u001b[39m     )\n\u001b[32m    722\u001b[39m run_info = \u001b[38;5;28mself\u001b[39m._get_run_info_from_dir(run_dir)\n\u001b[32m    723\u001b[39m \u001b[38;5;28;01mif\u001b[39;00m run_info.experiment_id != exp_id:\n",
      "\u001b[31mMlflowException\u001b[39m: Run 'd9f0f7a395174a398eb6215fb9c74df5' not found"
     ]
    }
   ],
   "source": [
    "import mlflow.sklearn\n",
    "\n",
    "sk_model = mlflow.sklearn.load_model(\"runs:/d9f0f7a395174a398eb6215fb9c74df5/model\")\n",
    "\n",
    "# use Pandas DataFrame to make predictions\n",
    "# pandas_df = ...\n",
    "# predictions = sk_model.predict(pandas_df) "
   ]
  },
  {
   "cell_type": "code",
   "execution_count": 5,
   "id": "0807708f",
   "metadata": {},
   "outputs": [
    {
     "data": {
      "text/html": [
       "<div>\n",
       "<style scoped>\n",
       "    .dataframe tbody tr th:only-of-type {\n",
       "        vertical-align: middle;\n",
       "    }\n",
       "\n",
       "    .dataframe tbody tr th {\n",
       "        vertical-align: top;\n",
       "    }\n",
       "\n",
       "    .dataframe thead th {\n",
       "        text-align: right;\n",
       "    }\n",
       "</style>\n",
       "<table border=\"1\" class=\"dataframe\">\n",
       "  <thead>\n",
       "    <tr style=\"text-align: right;\">\n",
       "      <th></th>\n",
       "      <th>run_id</th>\n",
       "      <th>experiment_id</th>\n",
       "      <th>status</th>\n",
       "      <th>artifact_uri</th>\n",
       "      <th>start_time</th>\n",
       "      <th>end_time</th>\n",
       "      <th>metrics.intercept</th>\n",
       "      <th>metrics.input_length</th>\n",
       "      <th>params.data_url</th>\n",
       "      <th>tags.mlflow.source.type</th>\n",
       "      <th>tags.mlflow.runName</th>\n",
       "      <th>tags.mlflow.log-model.history</th>\n",
       "      <th>tags.mlflow.source.name</th>\n",
       "      <th>tags.mlflow.user</th>\n",
       "      <th>tags.mlflow.source.git.commit</th>\n",
       "    </tr>\n",
       "  </thead>\n",
       "  <tbody>\n",
       "    <tr>\n",
       "      <th>0</th>\n",
       "      <td>d9f0f7a395174a398eb6215fb9c74df5</td>\n",
       "      <td>366603160111467826</td>\n",
       "      <td>FINISHED</td>\n",
       "      <td>mlflow-artifacts:/366603160111467826/d9f0f7a39...</td>\n",
       "      <td>2025-05-28 21:43:36.024000+00:00</td>\n",
       "      <td>2025-05-28 21:44:23.333000+00:00</td>\n",
       "      <td>24.778603</td>\n",
       "      <td>3403766.0</td>\n",
       "      <td>https://d37ci6vzurychx.cloudfront.net/trip-dat...</td>\n",
       "      <td>LOCAL</td>\n",
       "      <td>shapeless-nightingale</td>\n",
       "      <td>[{\"run_id\": \"d9f0f7a395174a398eb6215fb9c74df5\"...</td>\n",
       "      <td>/usr/local/lib/python3.12/site-packages/prefec...</td>\n",
       "      <td>root</td>\n",
       "      <td>None</td>\n",
       "    </tr>\n",
       "    <tr>\n",
       "      <th>1</th>\n",
       "      <td>2af8e3d0dcdc4e7c90b3807e7d7b250e</td>\n",
       "      <td>366603160111467826</td>\n",
       "      <td>FINISHED</td>\n",
       "      <td>mlflow-artifacts:/366603160111467826/2af8e3d0d...</td>\n",
       "      <td>2025-05-28 21:33:30.436000+00:00</td>\n",
       "      <td>2025-05-28 21:34:17.195000+00:00</td>\n",
       "      <td>24.778603</td>\n",
       "      <td>3403766.0</td>\n",
       "      <td>https://d37ci6vzurychx.cloudfront.net/trip-dat...</td>\n",
       "      <td>LOCAL</td>\n",
       "      <td>hissing-bettong</td>\n",
       "      <td>[{\"run_id\": \"2af8e3d0dcdc4e7c90b3807e7d7b250e\"...</td>\n",
       "      <td>/usr/local/lib/python3.12/site-packages/prefec...</td>\n",
       "      <td>root</td>\n",
       "      <td>None</td>\n",
       "    </tr>\n",
       "    <tr>\n",
       "      <th>2</th>\n",
       "      <td>0b7985570bfa468e98496361b379d06f</td>\n",
       "      <td>366603160111467826</td>\n",
       "      <td>FINISHED</td>\n",
       "      <td>mlflow-artifacts:/366603160111467826/0b7985570...</td>\n",
       "      <td>2025-05-28 14:30:32.916000+00:00</td>\n",
       "      <td>2025-05-28 14:31:25.969000+00:00</td>\n",
       "      <td>24.778603</td>\n",
       "      <td>3403766.0</td>\n",
       "      <td>https://d37ci6vzurychx.cloudfront.net/trip-dat...</td>\n",
       "      <td>LOCAL</td>\n",
       "      <td>green-nyala</td>\n",
       "      <td>[{\"run_id\": \"0b7985570bfa468e98496361b379d06f\"...</td>\n",
       "      <td>../03-orchestration/hw.py</td>\n",
       "      <td>vscode</td>\n",
       "      <td>5c623218d83f7dcf69f0c94bd4e2d5423e2efe5e</td>\n",
       "    </tr>\n",
       "    <tr>\n",
       "      <th>3</th>\n",
       "      <td>630182229a374d43bf539cd0b3429d0b</td>\n",
       "      <td>366603160111467826</td>\n",
       "      <td>FINISHED</td>\n",
       "      <td>mlflow-artifacts:/366603160111467826/630182229...</td>\n",
       "      <td>2025-05-28 14:28:04.457000+00:00</td>\n",
       "      <td>2025-05-28 14:28:55.408000+00:00</td>\n",
       "      <td>24.778603</td>\n",
       "      <td>3403766.0</td>\n",
       "      <td>https://d37ci6vzurychx.cloudfront.net/trip-dat...</td>\n",
       "      <td>LOCAL</td>\n",
       "      <td>cautious-spaniel</td>\n",
       "      <td>[{\"run_id\": \"630182229a374d43bf539cd0b3429d0b\"...</td>\n",
       "      <td>hw.py</td>\n",
       "      <td>vscode</td>\n",
       "      <td>5c623218d83f7dcf69f0c94bd4e2d5423e2efe5e</td>\n",
       "    </tr>\n",
       "    <tr>\n",
       "      <th>4</th>\n",
       "      <td>d6bf16f23b3c45bc8b1e390b6f239dd1</td>\n",
       "      <td>366603160111467826</td>\n",
       "      <td>FINISHED</td>\n",
       "      <td>mlflow-artifacts:/366603160111467826/d6bf16f23...</td>\n",
       "      <td>2025-05-28 14:18:52.013000+00:00</td>\n",
       "      <td>2025-05-28 14:19:41.203000+00:00</td>\n",
       "      <td>24.778603</td>\n",
       "      <td>3403766.0</td>\n",
       "      <td>https://d37ci6vzurychx.cloudfront.net/trip-dat...</td>\n",
       "      <td>LOCAL</td>\n",
       "      <td>onyx-owl</td>\n",
       "      <td>[{\"run_id\": \"d6bf16f23b3c45bc8b1e390b6f239dd1\"...</td>\n",
       "      <td>hw.py</td>\n",
       "      <td>vscode</td>\n",
       "      <td>5c623218d83f7dcf69f0c94bd4e2d5423e2efe5e</td>\n",
       "    </tr>\n",
       "    <tr>\n",
       "      <th>5</th>\n",
       "      <td>8ea24be2c9db4952bec1c0b19534fd0f</td>\n",
       "      <td>366603160111467826</td>\n",
       "      <td>FINISHED</td>\n",
       "      <td>mlflow-artifacts:/366603160111467826/8ea24be2c...</td>\n",
       "      <td>2025-05-28 14:02:02.572000+00:00</td>\n",
       "      <td>2025-05-28 14:03:08.080000+00:00</td>\n",
       "      <td>24.778603</td>\n",
       "      <td>3403766.0</td>\n",
       "      <td>https://d37ci6vzurychx.cloudfront.net/trip-dat...</td>\n",
       "      <td>LOCAL</td>\n",
       "      <td>bulky-asp</td>\n",
       "      <td>[{\"run_id\": \"8ea24be2c9db4952bec1c0b19534fd0f\"...</td>\n",
       "      <td>hw.py</td>\n",
       "      <td>vscode</td>\n",
       "      <td>d275c9451d95adf5de1575435e32b7b4966ce732</td>\n",
       "    </tr>\n",
       "  </tbody>\n",
       "</table>\n",
       "</div>"
      ],
      "text/plain": [
       "                             run_id       experiment_id    status  \\\n",
       "0  d9f0f7a395174a398eb6215fb9c74df5  366603160111467826  FINISHED   \n",
       "1  2af8e3d0dcdc4e7c90b3807e7d7b250e  366603160111467826  FINISHED   \n",
       "2  0b7985570bfa468e98496361b379d06f  366603160111467826  FINISHED   \n",
       "3  630182229a374d43bf539cd0b3429d0b  366603160111467826  FINISHED   \n",
       "4  d6bf16f23b3c45bc8b1e390b6f239dd1  366603160111467826  FINISHED   \n",
       "5  8ea24be2c9db4952bec1c0b19534fd0f  366603160111467826  FINISHED   \n",
       "\n",
       "                                        artifact_uri  \\\n",
       "0  mlflow-artifacts:/366603160111467826/d9f0f7a39...   \n",
       "1  mlflow-artifacts:/366603160111467826/2af8e3d0d...   \n",
       "2  mlflow-artifacts:/366603160111467826/0b7985570...   \n",
       "3  mlflow-artifacts:/366603160111467826/630182229...   \n",
       "4  mlflow-artifacts:/366603160111467826/d6bf16f23...   \n",
       "5  mlflow-artifacts:/366603160111467826/8ea24be2c...   \n",
       "\n",
       "                        start_time                         end_time  \\\n",
       "0 2025-05-28 21:43:36.024000+00:00 2025-05-28 21:44:23.333000+00:00   \n",
       "1 2025-05-28 21:33:30.436000+00:00 2025-05-28 21:34:17.195000+00:00   \n",
       "2 2025-05-28 14:30:32.916000+00:00 2025-05-28 14:31:25.969000+00:00   \n",
       "3 2025-05-28 14:28:04.457000+00:00 2025-05-28 14:28:55.408000+00:00   \n",
       "4 2025-05-28 14:18:52.013000+00:00 2025-05-28 14:19:41.203000+00:00   \n",
       "5 2025-05-28 14:02:02.572000+00:00 2025-05-28 14:03:08.080000+00:00   \n",
       "\n",
       "   metrics.intercept  metrics.input_length  \\\n",
       "0          24.778603             3403766.0   \n",
       "1          24.778603             3403766.0   \n",
       "2          24.778603             3403766.0   \n",
       "3          24.778603             3403766.0   \n",
       "4          24.778603             3403766.0   \n",
       "5          24.778603             3403766.0   \n",
       "\n",
       "                                     params.data_url tags.mlflow.source.type  \\\n",
       "0  https://d37ci6vzurychx.cloudfront.net/trip-dat...                   LOCAL   \n",
       "1  https://d37ci6vzurychx.cloudfront.net/trip-dat...                   LOCAL   \n",
       "2  https://d37ci6vzurychx.cloudfront.net/trip-dat...                   LOCAL   \n",
       "3  https://d37ci6vzurychx.cloudfront.net/trip-dat...                   LOCAL   \n",
       "4  https://d37ci6vzurychx.cloudfront.net/trip-dat...                   LOCAL   \n",
       "5  https://d37ci6vzurychx.cloudfront.net/trip-dat...                   LOCAL   \n",
       "\n",
       "     tags.mlflow.runName                      tags.mlflow.log-model.history  \\\n",
       "0  shapeless-nightingale  [{\"run_id\": \"d9f0f7a395174a398eb6215fb9c74df5\"...   \n",
       "1        hissing-bettong  [{\"run_id\": \"2af8e3d0dcdc4e7c90b3807e7d7b250e\"...   \n",
       "2            green-nyala  [{\"run_id\": \"0b7985570bfa468e98496361b379d06f\"...   \n",
       "3       cautious-spaniel  [{\"run_id\": \"630182229a374d43bf539cd0b3429d0b\"...   \n",
       "4               onyx-owl  [{\"run_id\": \"d6bf16f23b3c45bc8b1e390b6f239dd1\"...   \n",
       "5              bulky-asp  [{\"run_id\": \"8ea24be2c9db4952bec1c0b19534fd0f\"...   \n",
       "\n",
       "                             tags.mlflow.source.name tags.mlflow.user  \\\n",
       "0  /usr/local/lib/python3.12/site-packages/prefec...             root   \n",
       "1  /usr/local/lib/python3.12/site-packages/prefec...             root   \n",
       "2                          ../03-orchestration/hw.py           vscode   \n",
       "3                                              hw.py           vscode   \n",
       "4                                              hw.py           vscode   \n",
       "5                                              hw.py           vscode   \n",
       "\n",
       "              tags.mlflow.source.git.commit  \n",
       "0                                      None  \n",
       "1                                      None  \n",
       "2  5c623218d83f7dcf69f0c94bd4e2d5423e2efe5e  \n",
       "3  5c623218d83f7dcf69f0c94bd4e2d5423e2efe5e  \n",
       "4  5c623218d83f7dcf69f0c94bd4e2d5423e2efe5e  \n",
       "5  d275c9451d95adf5de1575435e32b7b4966ce732  "
      ]
     },
     "execution_count": 5,
     "metadata": {},
     "output_type": "execute_result"
    }
   ],
   "source": [
    "import mlflow\n",
    "import sys\n",
    "\n",
    "mlflow.search_runs(search_all_experiments=True)"
   ]
  },
  {
   "cell_type": "markdown",
   "id": "857f3ab8",
   "metadata": {},
   "source": []
  }
 ],
 "metadata": {
  "kernelspec": {
   "display_name": ".venv",
   "language": "python",
   "name": "python3"
  },
  "language_info": {
   "codemirror_mode": {
    "name": "ipython",
    "version": 3
   },
   "file_extension": ".py",
   "mimetype": "text/x-python",
   "name": "python",
   "nbconvert_exporter": "python",
   "pygments_lexer": "ipython3",
   "version": "3.12.10"
  }
 },
 "nbformat": 4,
 "nbformat_minor": 5
}
